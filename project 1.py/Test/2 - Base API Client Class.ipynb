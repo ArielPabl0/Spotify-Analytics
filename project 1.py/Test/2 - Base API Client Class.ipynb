{
 "cells": [
  {
   "cell_type": "code",
   "execution_count": null,
   "source": [
    "!pip install requests "
   ],
   "outputs": [],
   "metadata": {}
  },
  {
   "cell_type": "code",
   "execution_count": null,
   "source": [
    "import requests\r\n",
    "import datetime"
   ],
   "outputs": [],
   "metadata": {}
  },
  {
   "cell_type": "code",
   "execution_count": null,
   "source": [
    "import base64"
   ],
   "outputs": [],
   "metadata": {}
  },
  {
   "cell_type": "code",
   "execution_count": null,
   "source": [
    "client_id = 'xxxxxxxxxxxxxxxxxxxxxxxxxxxxxxxxxxxxx'\r\n",
    "client_secret = 'xxxxxxxxxxxxxxxxxxxxxxxxxxxxxxxxxxxxxxxxx'"
   ],
   "outputs": [],
   "metadata": {}
  },
  {
   "cell_type": "code",
   "execution_count": null,
   "source": [
    "class SpotifyAPI(object):\r\n",
    "    access_token = None\r\n",
    "    access_token_expires = datetime.datetime.now()\r\n",
    "    access_token_did_expire = True\r\n",
    "    client_id = None\r\n",
    "    client_secret = None\r\n",
    "    token_url = \"https://accounts.spotify.com/api/token\"\r\n",
    "    \r\n",
    "    def __init__(self, client_id, client_secret, *args, **kwargs):\r\n",
    "        super().__init__(*args, **kwargs)\r\n",
    "        self.client_id = client_id\r\n",
    "        self.client_secret = client_secret\r\n",
    "\r\n",
    "    def get_client_credentials(self):\r\n",
    "        \"\"\"\r\n",
    "        Returns a base64 encoded string\r\n",
    "        \"\"\"\r\n",
    "        client_id = self.client_id\r\n",
    "        client_secret = self.client_secret\r\n",
    "        if client_secret == None or client_id == None:\r\n",
    "            raise Exception(\"You must set client_id and client_secret\")\r\n",
    "        client_creds = f\"{client_id}:{client_secret}\"\r\n",
    "        client_creds_b64 = base64.b64encode(client_creds.encode())\r\n",
    "        return client_creds_b64.decode()\r\n",
    "    \r\n",
    "    def get_token_headers(self):\r\n",
    "        client_creds_b64 = self.get_client_credentials()\r\n",
    "        return {\r\n",
    "            \"Authorization\": f\"Basic {client_creds_b64}\"\r\n",
    "        }\r\n",
    "    \r\n",
    "    def get_token_data(self):\r\n",
    "        return {\r\n",
    "            \"grant_type\": \"client_credentials\"\r\n",
    "        } \r\n",
    "    \r\n",
    "    def perform_auth(self):\r\n",
    "        token_url = self.token_url\r\n",
    "        token_data = self.get_token_data()\r\n",
    "        token_headers = self.get_token_headers()\r\n",
    "        r = requests.post(token_url, data=token_data, headers=token_headers)\r\n",
    "        if r.status_code not in range(200, 299):\r\n",
    "            return False\r\n",
    "        data = r.json()\r\n",
    "        now = datetime.datetime.now()\r\n",
    "        access_token = data['access_token']\r\n",
    "        expires_in = data['expires_in'] # seconds\r\n",
    "        expires = now + datetime.timedelta(seconds=expires_in)\r\n",
    "        self.access_token = access_token\r\n",
    "        self.access_token_expires = expires\r\n",
    "        self.access_token_did_expire = expires < now\r\n",
    "        return True"
   ],
   "outputs": [],
   "metadata": {}
  },
  {
   "cell_type": "code",
   "execution_count": null,
   "source": [
    "spotify = SpotifyAPI(client_id, client_secret)"
   ],
   "outputs": [],
   "metadata": {}
  },
  {
   "cell_type": "code",
   "execution_count": null,
   "source": [
    "spotify.perform_auth()"
   ],
   "outputs": [],
   "metadata": {}
  },
  {
   "cell_type": "code",
   "execution_count": null,
   "source": [
    "spotify.access_token"
   ],
   "outputs": [],
   "metadata": {}
  },
  {
   "cell_type": "code",
   "execution_count": null,
   "source": [
    "#spotify.search"
   ],
   "outputs": [],
   "metadata": {}
  }
 ],
 "metadata": {
  "orig_nbformat": 4,
  "language_info": {
   "name": "python",
   "version": "3.6.4"
  },
  "kernelspec": {
   "name": "python3",
   "display_name": "Python 3.6.4 32-bit"
  },
  "interpreter": {
   "hash": "8ded34af2c9d7ec710a0ef622d5bd1cc7b0a13d6a64a08371fa8e77d5a76a10f"
  }
 },
 "nbformat": 4,
 "nbformat_minor": 2
}
