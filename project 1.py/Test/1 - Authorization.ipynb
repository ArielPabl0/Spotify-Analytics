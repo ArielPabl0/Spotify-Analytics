{
    "cells": [
        {
            "cell_type": "code",
            "execution_count": 15,
            "source": [
                "!pip install requests "
            ],
            "outputs": [
                {
                    "output_type": "stream",
                    "name": "stdout",
                    "text": [
                        "Requirement already satisfied: requests in c:\\users\\ariel\\appdata\\local\\programs\\python\\python36-32\\lib\\site-packages (2.25.0)\n",
                        "Requirement already satisfied: chardet<4,>=3.0.2 in c:\\users\\ariel\\appdata\\local\\programs\\python\\python36-32\\lib\\site-packages (from requests) (3.0.4)\n",
                        "Requirement already satisfied: certifi>=2017.4.17 in c:\\users\\ariel\\appdata\\local\\programs\\python\\python36-32\\lib\\site-packages (from requests) (2020.11.8)\n",
                        "Requirement already satisfied: urllib3<1.27,>=1.21.1 in c:\\users\\ariel\\appdata\\local\\programs\\python\\python36-32\\lib\\site-packages (from requests) (1.26.2)\n",
                        "Requirement already satisfied: idna<3,>=2.5 in c:\\users\\ariel\\appdata\\local\\programs\\python\\python36-32\\lib\\site-packages (from requests) (2.10)\n"
                    ]
                }
            ],
            "metadata": {}
        },
        {
            "cell_type": "code",
            "execution_count": 16,
            "source": [
                "import requests\r\n",
                "import datetime\r\n",
                "import datetime"
            ],
            "outputs": [],
            "metadata": {}
        },
        {
            "cell_type": "code",
            "execution_count": 17,
            "source": [
                "import base64"
            ],
            "outputs": [],
            "metadata": {}
        },
        {
            "cell_type": "code",
            "execution_count": 18,
            "source": [
                "client_id = 'xxxxxxxxxxxxxxxxxxxxxxxxxxxxxxxxxxx'\r\n",
                "client_secret = 'xxxxxxxxxxxxxxxxxxxxxxxxxxxxxxxxxxx'"
            ],
            "outputs": [],
            "metadata": {}
        },
        {
            "cell_type": "code",
            "execution_count": 19,
            "source": [
                "client_creds = f\"{client_id}:{client_secret}\"\r\n",
                "type(client_creds)"
            ],
            "outputs": [
                {
                    "output_type": "execute_result",
                    "data": {
                        "text/plain": [
                            "str"
                        ]
                    },
                    "metadata": {},
                    "execution_count": 19
                }
            ],
            "metadata": {}
        },
        {
            "cell_type": "code",
            "execution_count": 20,
            "source": [
                "# encoding from str to base 64\r\n",
                "client_creds_b64 = base64.b64encode(client_creds.encode())\r\n",
                "print(client_creds_b64)"
            ],
            "outputs": [
                {
                    "output_type": "stream",
                    "name": "stdout",
                    "text": [
                        "b'YTdmNTRhMjQzYmY0NGYxZjg5MzBjZTE1M2ExODIxZjc6YmIwYzY1YWUwNjhhNGMyNDg3YzgxZmUzMjY2NDZjYzE='\n"
                    ]
                }
            ],
            "metadata": {}
        },
        {
            "cell_type": "code",
            "execution_count": 21,
            "source": [
                "# How to decode a base 64 str\r\n",
                "# base64.b64decode(client_creds_b64)"
            ],
            "outputs": [],
            "metadata": {}
        },
        {
            "cell_type": "code",
            "execution_count": 22,
            "source": [
                "# Do a look up for a token\r\n",
                "# This token is for future requests  \r\n",
                "\r\n",
                "token_url = 'https://accounts.spotify.com/api/token'\r\n",
                "method = 'POST'\r\n",
                "\r\n",
                "token_data = {\r\n",
                "    \"grant_type\": \"client_credentials\"\r\n",
                "}\r\n",
                "token_header = {\r\n",
                "    \"Authorization\": f\"Basic {client_creds_b64.decode()}\" #Basic <base64 encoded client_id:client_secret>\r\n",
                "                                                          # Make sure theres no spaces\r\n",
                "}"
            ],
            "outputs": [],
            "metadata": {}
        },
        {
            "cell_type": "code",
            "execution_count": 23,
            "source": [
                "r = requests.post(token_url, data = token_data, headers=token_header)\r\n",
                "print(r.json())\r\n",
                "valid_request = r.status_code in range(200, 299) "
            ],
            "outputs": [
                {
                    "output_type": "stream",
                    "name": "stdout",
                    "text": [
                        "{'access_token': 'BQDWogaV5TJnKKooCXXGuqKJogHLG5m0z7kstAH2aJ0V1VXXb-ht3xa1XEVzIgMC-rFwUyg7Gu0hTV3ug1c', 'token_type': 'Bearer', 'expires_in': 3600}\n"
                    ]
                }
            ],
            "metadata": {}
        },
        {
            "cell_type": "code",
            "execution_count": 24,
            "source": [
                "if valid_request:\r\n",
                "    token_response_data = r.json() \r\n",
                "    access_token = token_response_data['access_token']\r\n",
                "    expires_in = token_response_data['expires_in'] # amount of time in SECONDS the token will last \r\n",
                "\r\n",
                "    now = datetime.datetime.now() # what time it is now\r\n",
                "    expires = now + datetime.timedelta(seconds = expires_in) # the extact time from now the token will expire for me \r\n",
                "    did_expire = expires < now # Boolean value indicating if the token has expired. "
            ],
            "outputs": [],
            "metadata": {}
        }
    ],
    "metadata": {
        "orig_nbformat": 4,
        "language_info": {
            "name": "python",
            "version": "3.6.4",
            "mimetype": "text/x-python",
            "codemirror_mode": {
                "name": "ipython",
                "version": 3
            },
            "pygments_lexer": "ipython3",
            "nbconvert_exporter": "python",
            "file_extension": ".py"
        },
        "kernelspec": {
            "name": "python3",
            "display_name": "Python 3.6.4 32-bit"
        },
        "interpreter": {
            "hash": "8ded34af2c9d7ec710a0ef622d5bd1cc7b0a13d6a64a08371fa8e77d5a76a10f"
        }
    },
    "nbformat": 4,
    "nbformat_minor": 2
}
