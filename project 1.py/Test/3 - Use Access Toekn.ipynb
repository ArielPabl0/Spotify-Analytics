{
 "cells": [
  {
   "cell_type": "code",
   "execution_count": 1,
   "source": [
    "!pip install requests "
   ],
   "outputs": [
    {
     "output_type": "stream",
     "name": "stdout",
     "text": [
      "Requirement already satisfied: requests in c:\\users\\ariel\\appdata\\local\\programs\\python\\python36-32\\lib\\site-packages (2.25.0)\n",
      "Requirement already satisfied: urllib3<1.27,>=1.21.1 in c:\\users\\ariel\\appdata\\local\\programs\\python\\python36-32\\lib\\site-packages (from requests) (1.26.2)\n",
      "Requirement already satisfied: idna<3,>=2.5 in c:\\users\\ariel\\appdata\\local\\programs\\python\\python36-32\\lib\\site-packages (from requests) (2.10)\n",
      "Requirement already satisfied: chardet<4,>=3.0.2 in c:\\users\\ariel\\appdata\\local\\programs\\python\\python36-32\\lib\\site-packages (from requests) (3.0.4)\n",
      "Requirement already satisfied: certifi>=2017.4.17 in c:\\users\\ariel\\appdata\\local\\programs\\python\\python36-32\\lib\\site-packages (from requests) (2020.11.8)\n"
     ]
    }
   ],
   "metadata": {}
  },
  {
   "cell_type": "code",
   "execution_count": 2,
   "source": [
    "import requests\r\n",
    "import datetime\r\n",
    "from urllib.parse import urlencode"
   ],
   "outputs": [],
   "metadata": {}
  },
  {
   "cell_type": "code",
   "execution_count": 3,
   "source": [
    "import base64"
   ],
   "outputs": [],
   "metadata": {}
  },
  {
   "cell_type": "code",
   "execution_count": 4,
   "source": [
    "client_id = 'xxxxxxxxxxxxxxxxxxxxxxxxxxxxxxxxxxxxxxx'\r\n",
    "client_secret = 'xxxxxxxxxxxxxxxxxxxxxxxxxxxxxxxxxxxxxxxxx'"
   ],
   "outputs": [],
   "metadata": {}
  },
  {
   "cell_type": "code",
   "execution_count": 5,
   "source": [
    "class SpotifyAPI(object):\r\n",
    "    access_token = None\r\n",
    "    access_token_expires = datetime.datetime.now()\r\n",
    "    access_token_did_expire = True\r\n",
    "    client_id = None\r\n",
    "    client_secret = None\r\n",
    "    token_url = \"https://accounts.spotify.com/api/token\"\r\n",
    "    \r\n",
    "    def __init__(self, client_id, client_secret, *args, **kwargs):\r\n",
    "        super().__init__(*args, **kwargs)\r\n",
    "        self.client_id = client_id\r\n",
    "        self.client_secret = client_secret\r\n",
    "\r\n",
    "    def get_client_credentials(self):\r\n",
    "        \"\"\"\r\n",
    "        Returns a base64 encoded string\r\n",
    "        \"\"\"\r\n",
    "        client_id = self.client_id\r\n",
    "        client_secret = self.client_secret\r\n",
    "        if client_secret == None or client_id == None:\r\n",
    "            raise Exception(\"You must set client_id and client_secret\")\r\n",
    "        client_creds = f\"{client_id}:{client_secret}\"\r\n",
    "        client_creds_b64 = base64.b64encode(client_creds.encode())\r\n",
    "        return client_creds_b64.decode()\r\n",
    "    \r\n",
    "    def get_token_headers(self):\r\n",
    "        client_creds_b64 = self.get_client_credentials()\r\n",
    "        return {\r\n",
    "            \"Authorization\": f\"Basic {client_creds_b64}\"\r\n",
    "        }\r\n",
    "    \r\n",
    "    def get_token_data(self):\r\n",
    "        return {\r\n",
    "            \"grant_type\": \"client_credentials\"\r\n",
    "        } \r\n",
    "    \r\n",
    "    def perform_auth(self):\r\n",
    "        token_url = self.token_url\r\n",
    "        token_data = self.get_token_data()\r\n",
    "        token_headers = self.get_token_headers()\r\n",
    "        r = requests.post(token_url, data=token_data, headers=token_headers)\r\n",
    "        if r.status_code not in range(200, 299):\r\n",
    "            return False\r\n",
    "        data = r.json()\r\n",
    "        now = datetime.datetime.now()\r\n",
    "        access_token = data['access_token']\r\n",
    "        expires_in = data['expires_in'] # seconds\r\n",
    "        expires = now + datetime.timedelta(seconds=expires_in)\r\n",
    "        self.access_token = access_token\r\n",
    "        self.access_token_expires = expires\r\n",
    "        self.access_token_did_expire = expires < now\r\n",
    "        return True"
   ],
   "outputs": [],
   "metadata": {}
  },
  {
   "cell_type": "code",
   "execution_count": 6,
   "source": [
    "spotify = SpotifyAPI(client_id, client_secret)"
   ],
   "outputs": [],
   "metadata": {}
  },
  {
   "cell_type": "code",
   "execution_count": 7,
   "source": [
    "spotify.perform_auth()"
   ],
   "outputs": [
    {
     "output_type": "execute_result",
     "data": {
      "text/plain": [
       "True"
      ]
     },
     "metadata": {},
     "execution_count": 7
    }
   ],
   "metadata": {}
  },
  {
   "cell_type": "code",
   "execution_count": 8,
   "source": [
    "access_token = spotify.access_token"
   ],
   "outputs": [],
   "metadata": {}
  },
  {
   "cell_type": "code",
   "execution_count": 9,
   "source": [
    "headers = {\r\n",
    "    \"Authorization\":\"Bearer f{access_token}\"\r\n",
    "}"
   ],
   "outputs": [],
   "metadata": {}
  },
  {
   "cell_type": "code",
   "execution_count": 10,
   "source": [
    "end_point = \"https://api.spotify.com/v1/search\"\r\n",
    "data = urlencode({\"q\":\"positions\", \"type\": \"track\"})\r\n",
    "\r\n",
    "lookup_url = f\"{end_point}?{data}\"\r\n",
    "r = requests.get(lookup_url, headers=headers)"
   ],
   "outputs": [],
   "metadata": {}
  },
  {
   "cell_type": "code",
   "execution_count": 11,
   "source": [
    "r.json()"
   ],
   "outputs": [
    {
     "output_type": "execute_result",
     "data": {
      "text/plain": [
       "{'error': {'message': 'Invalid access token', 'status': 401}}"
      ]
     },
     "metadata": {},
     "execution_count": 11
    }
   ],
   "metadata": {}
  }
 ],
 "metadata": {
  "orig_nbformat": 4,
  "language_info": {
   "name": "python",
   "version": "3.6.4",
   "mimetype": "text/x-python",
   "codemirror_mode": {
    "name": "ipython",
    "version": 3
   },
   "pygments_lexer": "ipython3",
   "nbconvert_exporter": "python",
   "file_extension": ".py"
  },
  "kernelspec": {
   "name": "python3",
   "display_name": "Python 3.6.4 32-bit"
  },
  "interpreter": {
   "hash": "8ded34af2c9d7ec710a0ef622d5bd1cc7b0a13d6a64a08371fa8e77d5a76a10f"
  }
 },
 "nbformat": 4,
 "nbformat_minor": 2
}
